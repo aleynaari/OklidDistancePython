{
 "cells": [
  {
   "cell_type": "code",
   "execution_count": 1,
   "id": "4e7df452-39d6-4f59-8197-1cafa8cddeeb",
   "metadata": {},
   "outputs": [],
   "source": [
    "import math"
   ]
  },
  {
   "cell_type": "code",
   "execution_count": 2,
   "id": "6a3482ca-6890-497d-bb05-ef12f6acae09",
   "metadata": {},
   "outputs": [],
   "source": [
    "points = [(1, 2), (3, 4), (6, 8), (2, 1), (5, 5)]"
   ]
  },
  {
   "cell_type": "code",
   "execution_count": 3,
   "id": "d9f6da3c-e0d0-4f7f-932d-0424492dfc7b",
   "metadata": {},
   "outputs": [],
   "source": [
    "def euclideanDistance(point1, point2):\n",
    "    x1, y1 = point1\n",
    "    x2, y2 = point2\n",
    "    distance = math.sqrt((x2 - x1)**2 + (y2 - y1)**2)\n",
    "    return distance"
   ]
  },
  {
   "cell_type": "code",
   "execution_count": 4,
   "id": "8aa063f1-331e-449d-9d97-870284e0fddd",
   "metadata": {},
   "outputs": [],
   "source": [
    "distances = []\n",
    "for i in range(len(points)):\n",
    "    for j in range(i + 1, len(points)):\n",
    "        distance = euclideanDistance(points[i], points[j])\n",
    "        distances.append(distance)\n"
   ]
  },
  {
   "cell_type": "code",
   "execution_count": 5,
   "id": "7c704f49-acd4-4310-93ab-39fa0b2f123d",
   "metadata": {},
   "outputs": [],
   "source": [
    "min_distance = min(distances)\n"
   ]
  },
  {
   "cell_type": "code",
   "execution_count": 6,
   "id": "90316a5b-35fc-41b3-9c83-6d03278ef1b8",
   "metadata": {},
   "outputs": [
    {
     "name": "stdout",
     "output_type": "stream",
     "text": [
      "Points: [(1, 2), (3, 4), (6, 8), (2, 1), (5, 5)]\n",
      "Distances: [2.8284271247461903, 7.810249675906654, 1.4142135623730951, 5.0, 5.0, 3.1622776601683795, 2.23606797749979, 8.06225774829855, 3.1622776601683795, 5.0]\n",
      "Minimum Distance: 1.4142135623730951\n"
     ]
    }
   ],
   "source": [
    "print(f\"Points: {points}\")\n",
    "print(f\"Distances: {distances}\")\n",
    "print(f\"Minimum Distance: {min_distance}\")"
   ]
  },
  {
   "cell_type": "code",
   "execution_count": null,
   "id": "e2d60e78-7a66-4fc6-be00-5b767cf12f39",
   "metadata": {},
   "outputs": [],
   "source": []
  }
 ],
 "metadata": {
  "kernelspec": {
   "display_name": "Python 3 (ipykernel)",
   "language": "python",
   "name": "python3"
  },
  "language_info": {
   "codemirror_mode": {
    "name": "ipython",
    "version": 3
   },
   "file_extension": ".py",
   "mimetype": "text/x-python",
   "name": "python",
   "nbconvert_exporter": "python",
   "pygments_lexer": "ipython3",
   "version": "3.12.4"
  }
 },
 "nbformat": 4,
 "nbformat_minor": 5
}
